{
  "nbformat": 4,
  "nbformat_minor": 0,
  "metadata": {
    "colab": {
      "provenance": [],
      "authorship_tag": "ABX9TyPKWER2JaD3kEH7Sru1b4Z3",
      "include_colab_link": true
    },
    "kernelspec": {
      "name": "python3",
      "display_name": "Python 3"
    },
    "language_info": {
      "name": "python"
    }
  },
  "cells": [
    {
      "cell_type": "markdown",
      "metadata": {
        "id": "view-in-github",
        "colab_type": "text"
      },
      "source": [
        "<a href=\"https://colab.research.google.com/github/MDTanveerAlam1/ExcelR/blob/main/CHI_SQUARE_TEST_Part_1_%2C_Assignment_4.ipynb\" target=\"_parent\"><img src=\"https://colab.research.google.com/assets/colab-badge.svg\" alt=\"Open In Colab\"/></a>"
      ]
    },
    {
      "cell_type": "markdown",
      "source": [
        "**State the Hypotheses:**\n",
        "\n",
        "*Null Hypothesis (H0)*: There is no significant association between the type of smart home device purchased (Smart Thermostats vs. Smart Lights) and the customer satisfaction level.\n",
        "\n",
        "*Alternative Hypothesis (H1)*: There is a significant association between the type of smart home device purchased (Smart Thermostats vs. Smart Lights) and the customer satisfaction level."
      ],
      "metadata": {
        "id": "V_f8V06JqDoT"
      }
    },
    {
      "cell_type": "code",
      "execution_count": 30,
      "metadata": {
        "id": "uF0JXHc_n3RC"
      },
      "outputs": [],
      "source": [
        "import pandas as pd\n",
        "import numpy as np\n",
        "import scipy.stats as stats"
      ]
    },
    {
      "cell_type": "code",
      "source": [
        "# Data\n",
        "data = {'Satisfaction': ['Very Satisfied', 'Satisfied', 'Neutral', 'Unsatisfied', 'Very Unsatisfied'],\n",
        "        'Smart Thermostat': [50, 80, 60, 30, 20],\n",
        "        'Smart Light': [70, 100, 90, 50, 50]}"
      ],
      "metadata": {
        "id": "vSlXfoHOn9kC"
      },
      "execution_count": 31,
      "outputs": []
    },
    {
      "cell_type": "markdown",
      "source": [
        "1. Creates a DataFrame from the provided data.\n",
        "\n",
        "2. Generates a contingency table."
      ],
      "metadata": {
        "id": "irGGd65DrD2Y"
      }
    },
    {
      "cell_type": "code",
      "source": [
        "# DataFrame\n",
        "df = pd.DataFrame(data)\n",
        "print(df)\n",
        "\n",
        "# Table format\n",
        "contingency_table = pd.crosstab(df['Satisfaction'], [df['Smart Thermostat'], df['Smart Light']])"
      ],
      "metadata": {
        "colab": {
          "base_uri": "https://localhost:8080/"
        },
        "id": "nIzW0fx5owmR",
        "outputId": "fab22fe6-77e6-421f-eff1-73a07ebb44bb"
      },
      "execution_count": 32,
      "outputs": [
        {
          "output_type": "stream",
          "name": "stdout",
          "text": [
            "       Satisfaction  Smart Thermostat  Smart Light\n",
            "0    Very Satisfied                50           70\n",
            "1         Satisfied                80          100\n",
            "2           Neutral                60           90\n",
            "3       Unsatisfied                30           50\n",
            "4  Very Unsatisfied                20           50\n"
          ]
        }
      ]
    },
    {
      "cell_type": "markdown",
      "source": [
        "3. Performs the Chi-Square test for independence.\n",
        "\n",
        "4. Prints the Chi-Square statistic, degrees of freedom, p-value, and expected frequencies.\n"
      ],
      "metadata": {
        "id": "dvaQYMFjrHQP"
      }
    },
    {
      "cell_type": "code",
      "source": [
        "# perform Chi-Square test\n",
        "chi2, p, dof, expected = stats.chi2_contingency(contingency_table)\n",
        "\n",
        "# Print the results\n",
        "print(f\"Chi-Square Statistic: {np.round(chi2)}\")\n",
        "print(f\"Degrees of Freedom: {dof}\")\n",
        "print(f\"p-value: {np.round(p,2)}\")\n",
        "print(\"Expected Frequencies:\")\n",
        "print(expected)"
      ],
      "metadata": {
        "colab": {
          "base_uri": "https://localhost:8080/"
        },
        "id": "Wh7045g3ox4F",
        "outputId": "56f53b53-70a0-4f53-f65d-d093a105cc9e"
      },
      "execution_count": 33,
      "outputs": [
        {
          "output_type": "stream",
          "name": "stdout",
          "text": [
            "Chi-Square Statistic: 20.0\n",
            "Degrees of Freedom: 16\n",
            "p-value: 0.22\n",
            "Expected Frequencies:\n",
            "[[0.2 0.2 0.2 0.2 0.2]\n",
            " [0.2 0.2 0.2 0.2 0.2]\n",
            " [0.2 0.2 0.2 0.2 0.2]\n",
            " [0.2 0.2 0.2 0.2 0.2]\n",
            " [0.2 0.2 0.2 0.2 0.2]]\n"
          ]
        }
      ]
    },
    {
      "cell_type": "markdown",
      "source": [
        "5. Print Critical value"
      ],
      "metadata": {
        "id": "-pk6gTkurmzW"
      }
    },
    {
      "cell_type": "code",
      "source": [
        "# Critical value\n",
        "alpha = 0.05\n",
        "critical_value = stats.chi2.ppf(1 - alpha, dof)\n",
        "print(f\"Critical Value: {np.round(critical_value,2)}\")"
      ],
      "metadata": {
        "colab": {
          "base_uri": "https://localhost:8080/"
        },
        "id": "nAyvn4N9pKF6",
        "outputId": "4882f180-9351-420d-9faf-9d2ab65efcfe"
      },
      "execution_count": 34,
      "outputs": [
        {
          "output_type": "stream",
          "name": "stdout",
          "text": [
            "Critical Value: 26.3\n"
          ]
        }
      ]
    },
    {
      "cell_type": "markdown",
      "source": [
        "6. Compares the Chi-Square statistic with the critical value to determine if we should reject the null hypothesis."
      ],
      "metadata": {
        "id": "OhqvRIRRrwA3"
      }
    },
    {
      "cell_type": "code",
      "source": [
        "# Decision\n",
        "if chi2 > critical_value:\n",
        "    print(\"Reject the null hypothesis. There is a significant association between the type of device and customer satisfaction.\")\n",
        "else:\n",
        "    print(\"Fail to reject the null hypothesis. There is no significant association between the type of device and customer satisfaction.\")"
      ],
      "metadata": {
        "colab": {
          "base_uri": "https://localhost:8080/"
        },
        "id": "UIe2GUfspNlP",
        "outputId": "070e1bc0-413f-47e0-a3ca-47c7973b5256"
      },
      "execution_count": 35,
      "outputs": [
        {
          "output_type": "stream",
          "name": "stdout",
          "text": [
            "Fail to reject the null hypothesis. There is no significant association between the type of device and customer satisfaction.\n"
          ]
        }
      ]
    },
    {
      "cell_type": "code",
      "source": [],
      "metadata": {
        "id": "ibC9LEXfpSeq"
      },
      "execution_count": 35,
      "outputs": []
    }
  ]
}