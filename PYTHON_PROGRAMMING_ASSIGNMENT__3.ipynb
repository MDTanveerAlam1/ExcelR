{
  "nbformat": 4,
  "nbformat_minor": 0,
  "metadata": {
    "colab": {
      "provenance": [],
      "authorship_tag": "ABX9TyO+Z4R3YTv4L4uii1Q+v6HF",
      "include_colab_link": true
    },
    "kernelspec": {
      "name": "python3",
      "display_name": "Python 3"
    },
    "language_info": {
      "name": "python"
    }
  },
  "cells": [
    {
      "cell_type": "markdown",
      "metadata": {
        "id": "view-in-github",
        "colab_type": "text"
      },
      "source": [
        "<a href=\"https://colab.research.google.com/github/MDTanveerAlam1/ExcelR/blob/main/PYTHON_PROGRAMMING_ASSIGNMENT__3.ipynb\" target=\"_parent\"><img src=\"https://colab.research.google.com/assets/colab-badge.svg\" alt=\"Open In Colab\"/></a>"
      ]
    },
    {
      "cell_type": "markdown",
      "source": [
        "# Answer 1 -> Prime Number"
      ],
      "metadata": {
        "id": "P7sjpyvEfuYJ"
      }
    },
    {
      "cell_type": "code",
      "execution_count": 21,
      "metadata": {
        "colab": {
          "base_uri": "https://localhost:8080/"
        },
        "id": "8bhrgTxKlu2m",
        "outputId": "fb68bfb0-5cc4-4c65-fac1-6279f5a3db0f"
      },
      "outputs": [
        {
          "output_type": "stream",
          "name": "stdout",
          "text": [
            "False\n"
          ]
        }
      ],
      "source": [
        "def is_prime(number):\n",
        "  if number <= 1:\n",
        "    return False\n",
        "  for i in range(2, number):\n",
        "    if number % i == 0:\n",
        "      return False\n",
        "  return True\n",
        "\n",
        "# Test the function - >\n",
        "print(is_prime(8))\n"
      ]
    },
    {
      "cell_type": "markdown",
      "source": [
        "# Answer 2 -> Product of Random Numbers"
      ],
      "metadata": {
        "id": "MUoEAXOyf_id"
      }
    },
    {
      "cell_type": "code",
      "source": [
        "import random\n",
        "num1 = random.randint(1,10)\n",
        "num2 = random.randint(1,10)\n",
        "product = num1 * num2\n",
        "\n",
        "user_answer = int(input(f\"What is {num1} times {num2}?\"))\n",
        "\n",
        "if user_answer == product:\n",
        "  print(\"Correct!\")\n",
        "else:\n",
        "  print(f\"The answer is {product}.\")"
      ],
      "metadata": {
        "colab": {
          "base_uri": "https://localhost:8080/"
        },
        "id": "WWoJe1fMmc5F",
        "outputId": "731380be-1f4d-45bc-a50c-5da27a937c28"
      },
      "execution_count": 22,
      "outputs": [
        {
          "output_type": "stream",
          "name": "stdout",
          "text": [
            "What is 5 times 1?5\n",
            "Correct!\n"
          ]
        }
      ]
    },
    {
      "cell_type": "markdown",
      "source": [
        "# Answer 3 -> Squares of Even/Odd Numbers"
      ],
      "metadata": {
        "id": "WgMGRdThgMMY"
      }
    },
    {
      "cell_type": "code",
      "source": [
        "# Function to print squares of even and odd numbers\n",
        "def print_squares():\n",
        "    for number in range(100, 201):\n",
        "        if number % 2 == 0:\n",
        "            print(f\"The square of even number {number} is {number ** 2}\")\n",
        "        else:\n",
        "            print(f\"The square of odd number {number} is {number ** 2}\")\n",
        "\n",
        "# Call the function to print the squares\n",
        "print_squares()"
      ],
      "metadata": {
        "colab": {
          "base_uri": "https://localhost:8080/"
        },
        "id": "P_TzacoWnvdv",
        "outputId": "5751df02-ad30-41cc-9681-b2fc36e74459"
      },
      "execution_count": 23,
      "outputs": [
        {
          "output_type": "stream",
          "name": "stdout",
          "text": [
            "The square of even number 100 is 10000\n",
            "The square of odd number 101 is 10201\n",
            "The square of even number 102 is 10404\n",
            "The square of odd number 103 is 10609\n",
            "The square of even number 104 is 10816\n",
            "The square of odd number 105 is 11025\n",
            "The square of even number 106 is 11236\n",
            "The square of odd number 107 is 11449\n",
            "The square of even number 108 is 11664\n",
            "The square of odd number 109 is 11881\n",
            "The square of even number 110 is 12100\n",
            "The square of odd number 111 is 12321\n",
            "The square of even number 112 is 12544\n",
            "The square of odd number 113 is 12769\n",
            "The square of even number 114 is 12996\n",
            "The square of odd number 115 is 13225\n",
            "The square of even number 116 is 13456\n",
            "The square of odd number 117 is 13689\n",
            "The square of even number 118 is 13924\n",
            "The square of odd number 119 is 14161\n",
            "The square of even number 120 is 14400\n",
            "The square of odd number 121 is 14641\n",
            "The square of even number 122 is 14884\n",
            "The square of odd number 123 is 15129\n",
            "The square of even number 124 is 15376\n",
            "The square of odd number 125 is 15625\n",
            "The square of even number 126 is 15876\n",
            "The square of odd number 127 is 16129\n",
            "The square of even number 128 is 16384\n",
            "The square of odd number 129 is 16641\n",
            "The square of even number 130 is 16900\n",
            "The square of odd number 131 is 17161\n",
            "The square of even number 132 is 17424\n",
            "The square of odd number 133 is 17689\n",
            "The square of even number 134 is 17956\n",
            "The square of odd number 135 is 18225\n",
            "The square of even number 136 is 18496\n",
            "The square of odd number 137 is 18769\n",
            "The square of even number 138 is 19044\n",
            "The square of odd number 139 is 19321\n",
            "The square of even number 140 is 19600\n",
            "The square of odd number 141 is 19881\n",
            "The square of even number 142 is 20164\n",
            "The square of odd number 143 is 20449\n",
            "The square of even number 144 is 20736\n",
            "The square of odd number 145 is 21025\n",
            "The square of even number 146 is 21316\n",
            "The square of odd number 147 is 21609\n",
            "The square of even number 148 is 21904\n",
            "The square of odd number 149 is 22201\n",
            "The square of even number 150 is 22500\n",
            "The square of odd number 151 is 22801\n",
            "The square of even number 152 is 23104\n",
            "The square of odd number 153 is 23409\n",
            "The square of even number 154 is 23716\n",
            "The square of odd number 155 is 24025\n",
            "The square of even number 156 is 24336\n",
            "The square of odd number 157 is 24649\n",
            "The square of even number 158 is 24964\n",
            "The square of odd number 159 is 25281\n",
            "The square of even number 160 is 25600\n",
            "The square of odd number 161 is 25921\n",
            "The square of even number 162 is 26244\n",
            "The square of odd number 163 is 26569\n",
            "The square of even number 164 is 26896\n",
            "The square of odd number 165 is 27225\n",
            "The square of even number 166 is 27556\n",
            "The square of odd number 167 is 27889\n",
            "The square of even number 168 is 28224\n",
            "The square of odd number 169 is 28561\n",
            "The square of even number 170 is 28900\n",
            "The square of odd number 171 is 29241\n",
            "The square of even number 172 is 29584\n",
            "The square of odd number 173 is 29929\n",
            "The square of even number 174 is 30276\n",
            "The square of odd number 175 is 30625\n",
            "The square of even number 176 is 30976\n",
            "The square of odd number 177 is 31329\n",
            "The square of even number 178 is 31684\n",
            "The square of odd number 179 is 32041\n",
            "The square of even number 180 is 32400\n",
            "The square of odd number 181 is 32761\n",
            "The square of even number 182 is 33124\n",
            "The square of odd number 183 is 33489\n",
            "The square of even number 184 is 33856\n",
            "The square of odd number 185 is 34225\n",
            "The square of even number 186 is 34596\n",
            "The square of odd number 187 is 34969\n",
            "The square of even number 188 is 35344\n",
            "The square of odd number 189 is 35721\n",
            "The square of even number 190 is 36100\n",
            "The square of odd number 191 is 36481\n",
            "The square of even number 192 is 36864\n",
            "The square of odd number 193 is 37249\n",
            "The square of even number 194 is 37636\n",
            "The square of odd number 195 is 38025\n",
            "The square of even number 196 is 38416\n",
            "The square of odd number 197 is 38809\n",
            "The square of even number 198 is 39204\n",
            "The square of odd number 199 is 39601\n",
            "The square of even number 200 is 40000\n"
          ]
        }
      ]
    },
    {
      "cell_type": "markdown",
      "source": [
        "# Answer 4 -> Word counter"
      ],
      "metadata": {
        "id": "tFX6aNgDilAL"
      }
    },
    {
      "cell_type": "code",
      "source": [
        "def count_words(input_text):\n",
        "    input_text = input_text.lower()  # Convert text to lowercase\n",
        "    words = input_text.split()       # Split the text into words\n",
        "    word_count = {}                  # Create a dictionary to store word counts\n",
        "\n",
        "    # Count the occurrences of each word\n",
        "    for word in words:\n",
        "        word_count[word] = word_count.get(word, 0) + 1\n",
        "\n",
        "    return word_count\n",
        "\n",
        "# Example usage\n",
        "input_text = \"This is a sample text. This text will be used to demonstrate the word counter.\"\n",
        "word_counts = count_words(input_text)\n",
        "\n",
        "# Print the word counts\n",
        "for word, count in word_counts.items():\n",
        "    print(f\"'{word}': {count}\")\n"
      ],
      "metadata": {
        "colab": {
          "base_uri": "https://localhost:8080/"
        },
        "id": "Cn2RIrPLbfGV",
        "outputId": "e696e7bf-ecca-45c3-8859-5bc65a0027d9"
      },
      "execution_count": 24,
      "outputs": [
        {
          "output_type": "stream",
          "name": "stdout",
          "text": [
            "'this': 2\n",
            "'is': 1\n",
            "'a': 1\n",
            "'sample': 1\n",
            "'text.': 1\n",
            "'text': 1\n",
            "'will': 1\n",
            "'be': 1\n",
            "'used': 1\n",
            "'to': 1\n",
            "'demonstrate': 1\n",
            "'the': 1\n",
            "'word': 1\n",
            "'counter.': 1\n"
          ]
        }
      ]
    },
    {
      "cell_type": "markdown",
      "source": [
        "# Answer 5 -> Check for Palindrome\n",
        "\n",
        "**Definition**\n",
        "\n",
        "A palindrome is a word, phrase, number, or sequence of characters that reads the same forward and backward, ignoring spaces, punctuation, and capitalization."
      ],
      "metadata": {
        "id": "FTJIDpwjipCG"
      }
    },
    {
      "cell_type": "code",
      "source": [
        "def is_palindrome(input_string):\n",
        "    # Remove non-alphanumeric characters and convert to lowercase\n",
        "    normalized_string = ''.join(char.lower() for char in input_string if char.isalnum())\n",
        "\n",
        "    # The normalized string is equal to its reverse\n",
        "    return normalized_string == normalized_string[::-1]\n",
        "\n",
        "# multiple test cases\n",
        "examples = [\n",
        "    \"racecar\",  # True\n",
        "    \"A man, a plan, a canal, Panama\",  # True\n",
        "    \"No 'x' in Nixon\",  # True\n",
        "    \"hello\",  # False\n",
        "    \"Was it a car or a cat I saw?\",  # True\n",
        "    \"12321\",  # True\n",
        "    \"12345\"  # False\n",
        "]\n",
        "\n",
        "for example in examples:\n",
        "    result = is_palindrome(example)\n",
        "    print(f\"'{example}' is a palindrome: {result}\")\n"
      ],
      "metadata": {
        "colab": {
          "base_uri": "https://localhost:8080/"
        },
        "id": "--cpaKRAdZ_0",
        "outputId": "8ca97b73-d643-4c11-96b3-cf4ed1a8d60f"
      },
      "execution_count": 25,
      "outputs": [
        {
          "output_type": "stream",
          "name": "stdout",
          "text": [
            "'racecar' is a palindrome: True\n",
            "'A man, a plan, a canal, Panama' is a palindrome: True\n",
            "'No 'x' in Nixon' is a palindrome: True\n",
            "'hello' is a palindrome: False\n",
            "'Was it a car or a cat I saw?' is a palindrome: True\n",
            "'12321' is a palindrome: True\n",
            "'12345' is a palindrome: False\n"
          ]
        }
      ]
    },
    {
      "cell_type": "code",
      "source": [],
      "metadata": {
        "id": "SJMoyNMAeIvr"
      },
      "execution_count": null,
      "outputs": []
    }
  ]
}