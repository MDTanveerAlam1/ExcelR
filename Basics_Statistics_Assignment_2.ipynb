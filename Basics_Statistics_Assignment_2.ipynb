{
  "nbformat": 4,
  "nbformat_minor": 0,
  "metadata": {
    "colab": {
      "provenance": [],
      "authorship_tag": "ABX9TyNnyFufeOcewegE5nUluZL8",
      "include_colab_link": true
    },
    "kernelspec": {
      "name": "python3",
      "display_name": "Python 3"
    },
    "language_info": {
      "name": "python"
    }
  },
  "cells": [
    {
      "cell_type": "markdown",
      "metadata": {
        "id": "view-in-github",
        "colab_type": "text"
      },
      "source": [
        "<a href=\"https://colab.research.google.com/github/MDTanveerAlam1/ExcelR/blob/main/Basics_Statistics_Assignment_2.ipynb\" target=\"_parent\"><img src=\"https://colab.research.google.com/assets/colab-badge.svg\" alt=\"Open In Colab\"/></a>"
      ]
    },
    {
      "cell_type": "markdown",
      "source": [
        "# **Estimation And Confidence Intervals**"
      ],
      "metadata": {
        "id": "DUjFqstljcGV"
      }
    },
    {
      "cell_type": "markdown",
      "source": [
        "##**Background**\n",
        "\n",
        "In quality control processes, especially when dealing with high-value items, destructive sampling is a necessary but costly method to ensure product quality. The test to determine whether an item meets the quality standards destroys the item, leading to the requirement of small sample sizes due to cost constraints.\n",
        "\n",
        "## **Scenario**\n",
        "\n",
        "A manufacturer of print-heads for personal computers is interested in estimating the mean durability of their print-heads in terms of the number of characters printed before failure. To assess this, the manufacturer conducts a study on a small sample of print-heads due to the destructive nature of the testing process.\n",
        "\n",
        "##**Data**\n",
        "\n",
        "A total of 15 print-heads were randomly selected and tested until failure. The durability of each print-head (in millions of characters) was recorded as follows:\n",
        "\n",
        "1.13, 1.55, 1.43, 0.92, 1.25, 1.36, 1.32, 0.85, 1.07, 1.48, 1.20, 1.33, 1.18, 1.22, 1.29\n"
      ],
      "metadata": {
        "id": "yE3VmeDijp4K"
      }
    },
    {
      "cell_type": "markdown",
      "source": [
        "#**Task (a):**\n",
        "###Build 99% Confidence Interval Using Sample Standard Deviation\n"
      ],
      "metadata": {
        "id": "hY4Rx2oYkd61"
      }
    },
    {
      "cell_type": "markdown",
      "source": [
        "####**Steps: 1**\n",
        "Sample Mean and Sample Standard Deviation"
      ],
      "metadata": {
        "id": "5FcMjGVslKMs"
      }
    },
    {
      "cell_type": "code",
      "source": [
        "import numpy as np\n",
        "\n",
        "data = np.array([1.13, 1.55, 1.43, 0.92, 1.25, 1.36, 1.32, 0.85, 1.07, 1.48, 1.20, 1.33, 1.18, 1.22, 1.29])\n",
        "sample_mean = np.mean(data)\n",
        "sample_std = np.std(data, ddof=1)  # ddof=1 for sample standard deviation\n",
        "\n",
        "print(\"Sample Mean:\", sample_mean)\n",
        "print(\"Sample Standard Deviation:\", sample_std)\n"
      ],
      "metadata": {
        "colab": {
          "base_uri": "https://localhost:8080/"
        },
        "id": "FOgwm2K-lN07",
        "outputId": "3835c79c-d38f-49c9-badd-02535164f78e"
      },
      "execution_count": 4,
      "outputs": [
        {
          "output_type": "stream",
          "name": "stdout",
          "text": [
            "Sample Mean: 1.2386666666666666\n",
            "Sample Standard Deviation: 0.19316412956959936\n"
          ]
        }
      ]
    },
    {
      "cell_type": "markdown",
      "source": [
        "####**Steps: 2**\n",
        "the t-value for a 99% confidence level with (n-1) degrees of freedom (df = 14)"
      ],
      "metadata": {
        "id": "RY9DuvQRolGW"
      }
    },
    {
      "cell_type": "code",
      "source": [
        "from scipy.stats import t\n",
        "\n",
        "n = len(data)\n",
        "confidence_level = 0.99\n",
        "df = n - 1\n",
        "t_value = t.ppf((1 + confidence_level) / 2, df)\n",
        "\n",
        "print(\"t-value:\", t_value)"
      ],
      "metadata": {
        "colab": {
          "base_uri": "https://localhost:8080/"
        },
        "id": "tFYPETCAlh_U",
        "outputId": "de74d690-c7b7-4d92-d6b6-914f40f8b7ac"
      },
      "execution_count": 3,
      "outputs": [
        {
          "output_type": "stream",
          "name": "stdout",
          "text": [
            "t-value: 2.976842734370834\n"
          ]
        }
      ]
    },
    {
      "cell_type": "markdown",
      "source": [
        "####**Step: 3**\n",
        "Margin of Error"
      ],
      "metadata": {
        "id": "he9DiDFFpL0N"
      }
    },
    {
      "cell_type": "code",
      "source": [
        "margin_of_error = t_value * (sample_std / np.sqrt(n))\n",
        "print(\"Margin of Error:\", margin_of_error)"
      ],
      "metadata": {
        "colab": {
          "base_uri": "https://localhost:8080/"
        },
        "id": "yyN7mbzUmzQa",
        "outputId": "7632458e-49d1-4803-b409-ac9ac8c9d7c1"
      },
      "execution_count": 5,
      "outputs": [
        {
          "output_type": "stream",
          "name": "stdout",
          "text": [
            "Margin of Error: 0.14846932822817596\n"
          ]
        }
      ]
    },
    {
      "cell_type": "markdown",
      "source": [
        "####**Step: 4**\n",
        "Confidence Interval"
      ],
      "metadata": {
        "id": "_eMK2WV4puKy"
      }
    },
    {
      "cell_type": "code",
      "source": [
        "lower_bound = sample_mean - margin_of_error\n",
        "upper_bound = sample_mean + margin_of_error\n",
        "\n",
        "print(\"99% Confidence Interval: \", np.round((lower_bound, upper_bound),2))"
      ],
      "metadata": {
        "colab": {
          "base_uri": "https://localhost:8080/"
        },
        "id": "7BeITwFIprBj",
        "outputId": "f868aa14-8437-4975-d7a3-df1ada31572b"
      },
      "execution_count": 11,
      "outputs": [
        {
          "output_type": "stream",
          "name": "stdout",
          "text": [
            "99% Confidence Interval:  [1.09 1.39]\n"
          ]
        }
      ]
    },
    {
      "cell_type": "markdown",
      "source": [
        "###**Explanation**\n",
        "####*Using the t-distribution:*\n",
        "The t-distribution is used because the sample size is small (n < 30)\n",
        "\n",
        "The population standard deviation is unknown.\n"
      ],
      "metadata": {
        "id": "AJr4FCThrrNx"
      }
    },
    {
      "cell_type": "markdown",
      "source": [
        "#**Task (b):**\n",
        "###Build 99% Confidence Interval Using Known Population Standard Deviation\n"
      ],
      "metadata": {
        "id": "Rkbo6dh5sUjr"
      }
    },
    {
      "cell_type": "markdown",
      "source": [
        "####**Steps: 1**\n",
        "Use the Known Population Standard Deviation (σ = 0.2)"
      ],
      "metadata": {
        "id": "kkiLh_jItH8t"
      }
    },
    {
      "cell_type": "code",
      "source": [
        "population_std = 0.2"
      ],
      "metadata": {
        "id": "lkk0np37tTzW"
      },
      "execution_count": 14,
      "outputs": []
    },
    {
      "cell_type": "markdown",
      "source": [
        "####**Steps: 2**\n",
        "The z-value for a 99% confidence level (standard normal distribution)"
      ],
      "metadata": {
        "id": "GbIfWOW8tJN8"
      }
    },
    {
      "cell_type": "code",
      "source": [
        "from scipy.stats import norm\n",
        "z_value = norm.ppf((1 + confidence_level) / 2)\n",
        "print(\"z-value:\", z_value)"
      ],
      "metadata": {
        "colab": {
          "base_uri": "https://localhost:8080/"
        },
        "id": "7fshTufitg2B",
        "outputId": "8a5fbe81-5f46-4b1d-a4e8-e41ccf9dd361"
      },
      "execution_count": 16,
      "outputs": [
        {
          "output_type": "stream",
          "name": "stdout",
          "text": [
            "z-value: 2.5758293035489004\n"
          ]
        }
      ]
    },
    {
      "cell_type": "markdown",
      "source": [
        "####**Steps: 3**\n",
        "Margin of Error"
      ],
      "metadata": {
        "id": "sFJF_Ka3tKTu"
      }
    },
    {
      "cell_type": "code",
      "source": [
        "margin_of_error_population = z_value * (population_std / np.sqrt(n))\n",
        "print(\"Margin of Error (Population Std):\", margin_of_error_population)"
      ],
      "metadata": {
        "colab": {
          "base_uri": "https://localhost:8080/"
        },
        "id": "og0us1icuURb",
        "outputId": "6e786a52-8d19-43bb-8c64-d33b129c35de"
      },
      "execution_count": 17,
      "outputs": [
        {
          "output_type": "stream",
          "name": "stdout",
          "text": [
            "Margin of Error (Population Std): 0.13301525327090588\n"
          ]
        }
      ]
    },
    {
      "cell_type": "markdown",
      "source": [
        "####**Steps: 4**\n",
        "Confidece Interval"
      ],
      "metadata": {
        "id": "HgJWtVAatLUg"
      }
    },
    {
      "cell_type": "code",
      "source": [
        "lower_bound_population = sample_mean - margin_of_error_population\n",
        "upper_bound_population = sample_mean + margin_of_error_population\n",
        "print(\"99% Confidence Interval with Known Population Std: \",np.round((lower_bound_population, upper_bound_population),2))\n"
      ],
      "metadata": {
        "colab": {
          "base_uri": "https://localhost:8080/"
        },
        "id": "azf_aKp5szpU",
        "outputId": "e5c903ad-32c4-4081-b7f2-8c2e942fe468"
      },
      "execution_count": 19,
      "outputs": [
        {
          "output_type": "stream",
          "name": "stdout",
          "text": [
            "99% Confidence Interval with Known Population Std:  [1.11 1.37]\n"
          ]
        }
      ]
    },
    {
      "cell_type": "markdown",
      "source": [
        "###**Explanation**\n",
        "####*Using the z-distribution:*\n",
        "When the population standard deviation is known,\n",
        "\n",
        "Then we use the z-distribution (standard normal distribution), which is appropriate for large samples or when the population standard deviation is provided.\n"
      ],
      "metadata": {
        "id": "NNIXcakRvETx"
      }
    },
    {
      "cell_type": "code",
      "source": [],
      "metadata": {
        "id": "Te3iUyIou2eb"
      },
      "execution_count": null,
      "outputs": []
    }
  ]
}